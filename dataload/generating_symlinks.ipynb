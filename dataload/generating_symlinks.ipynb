{
 "cells": [
  {
   "cell_type": "code",
   "execution_count": 2,
   "metadata": {},
   "outputs": [],
   "source": [
    "import os, glob, re\n",
    "base_path = os.path.abspath('../')\n",
    "scr_path = '/home/ubuntu/Files/DataSpace/point_detection/SourceData'\n",
    "tar_path = os.path.join(base_path, 'dataspace')\n",
    "\n",
    "# task = 'task92'\n",
    "# datset = 'test'\n",
    "# tar_data = os.path.join(base_path, 'dataspace', task, datset)\n",
    "# if not os.path.exists(tar_data):\n",
    "#     os.makedirs(tar_data)\n",
    "# os.symlink(os.path.join(scr_path, task), os.path.join(tar_data, task))"
   ]
  },
  {
   "cell_type": "code",
   "execution_count": 16,
   "metadata": {},
   "outputs": [],
   "source": [
    "# task = 'task87_3'; datset = 'train'\n",
    "# task = 'task87_4'; datset = 'train'\n",
    "# task = 'task87_5'; datset = 'train'\n",
    "# task = 'task87_6'; datset = 'test'\n",
    "task = 'task87_6'; datset = 'valid'\n",
    "# task = 'task92_1'; datset = 'test'\n",
    "# task = 'task92_2'; datset = 'valid'\n",
    "# task = 'task92_3'; datset = 'train'\n",
    "# task = 'task92_4'; datset = 'train'\n",
    "# task = 'task92_5'; datset = 'train'\n",
    "# task = 'task92_6'; datset = 'train'\n",
    "\n",
    "datset_path = os.path.join(tar_path, datset)\n",
    "\n",
    "# if os.path.exists(datset_path):\n",
    "#     shutil.rmtree(datset_path)\n",
    "    \n",
    "if not os.path.exists(datset_path):\n",
    "    os.makedirs(datset_path)\n",
    "\n",
    "os.symlink(os.path.join(scr_path, task), os.path.join(datset_path, task))"
   ]
  },
  {
   "cell_type": "code",
   "execution_count": 6,
   "metadata": {},
   "outputs": [],
   "source": [
    "# task = 'task87_3'; datset = 'train'\n",
    "# task = 'task87_4'; datset = 'train'\n",
    "# task = 'task87_5'; datset = 'train'\n",
    "# task = 'task87_6'; datset = 'test'\n",
    "# task = 'task87_6'; datset = 'valid'\n",
    "# task = 'task92_1'; datset = 'test'\n",
    "# task = 'task92_2'; datset = 'valid'\n",
    "task = 'task92_3'; datset = 'online_train'\n",
    "task = 'task92_4'; datset = 'online_train'\n",
    "task = 'task92_5'; datset = 'online_train'\n",
    "task = 'task92_6'; datset = 'online_train'\n",
    "\n",
    "datset_path = os.path.join(tar_path, datset)\n",
    "\n",
    "# if os.path.exists(datset_path):\n",
    "#     shutil.rmtree(datset_path)\n",
    "    \n",
    "if not os.path.exists(datset_path):\n",
    "    os.makedirs(datset_path)\n",
    "\n",
    "os.symlink(os.path.join(scr_path, task), os.path.join(datset_path, task))"
   ]
  },
  {
   "cell_type": "code",
   "execution_count": 15,
   "metadata": {},
   "outputs": [],
   "source": [
    "import os, glob, re, shutil\n",
    "base_path = os.path.abspath('../')\n",
    "scr_path = '/home/ubuntu/Files/DataSpace/point_detection/SourceData'\n",
    "tar_path = os.path.join(base_path, 'dataspace')\n",
    "\n",
    "# task = 'task93_1'; datset = 'task93'\n",
    "# task = 'task93_2'; datset = 'task93'\n",
    "# task = 'task93_3'; datset = 'task93'\n",
    "# task = 'task93_4'; datset = 'task93'\n",
    "# task = 'task93_5'; datset = 'task93'\n",
    "task = 'task93_12'; datset = 'task93_12'\n",
    "# task = 'pickup'; datset = 'pickup'\n",
    "\n",
    "datset_path = os.path.join(tar_path, datset)\n",
    "\n",
    "if os.path.exists(datset_path):\n",
    "    shutil.rmtree(datset_path)\n",
    "    \n",
    "if not os.path.exists(datset_path):\n",
    "    os.makedirs(datset_path)\n",
    "\n",
    "os.symlink(os.path.join(scr_path, task), os.path.join(datset_path, task))"
   ]
  },
  {
   "cell_type": "code",
   "execution_count": 8,
   "metadata": {},
   "outputs": [
    {
     "data": {
      "text/plain": [
       "0.756143756806667"
      ]
     },
     "execution_count": 8,
     "metadata": {},
     "output_type": "execute_result"
    }
   ],
   "source": [
    "15969/21119"
   ]
  },
  {
   "cell_type": "code",
   "execution_count": 9,
   "metadata": {},
   "outputs": [
    {
     "data": {
      "text/plain": [
       "0.003131066441229883"
      ]
     },
     "execution_count": 9,
     "metadata": {},
     "output_type": "execute_result"
    }
   ],
   "source": [
    "50/15969"
   ]
  },
  {
   "cell_type": "code",
   "execution_count": null,
   "metadata": {},
   "outputs": [],
   "source": []
  }
 ],
 "metadata": {
  "kernelspec": {
   "display_name": "Python 3",
   "language": "python",
   "name": "python3"
  },
  "language_info": {
   "codemirror_mode": {
    "name": "ipython",
    "version": 3
   },
   "file_extension": ".py",
   "mimetype": "text/x-python",
   "name": "python",
   "nbconvert_exporter": "python",
   "pygments_lexer": "ipython3",
   "version": "3.6.5"
  }
 },
 "nbformat": 4,
 "nbformat_minor": 2
}
